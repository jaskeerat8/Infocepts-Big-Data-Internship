{
 "cells": [
  {
   "cell_type": "markdown",
   "id": "fcb5fe9f-9570-4182-8de2-4cd6ceab6130",
   "metadata": {},
   "source": [
    "# Importing Libraries"
   ]
  },
  {
   "cell_type": "code",
   "execution_count": 1,
   "id": "dd8980ba-a68c-4d31-b565-34fa3373356b",
   "metadata": {},
   "outputs": [],
   "source": [
    "import os\n",
    "import shutil\n",
    "import json\n",
    "import pandas as pd\n",
    "import numpy as np"
   ]
  },
  {
   "cell_type": "markdown",
   "id": "ff9c2447-d9ae-4573-ad31-e952957bc7f1",
   "metadata": {},
   "source": [
    "# Question 1"
   ]
  },
  {
   "cell_type": "markdown",
   "id": "bce5df2b-9ee6-4483-b50a-56a2dbdf0dd7",
   "metadata": {},
   "source": [
    "### Files copied to zomato_raw_files\n",
    "* mkdir -p /home/jaskeerat/zomato_raw_files\n",
    "* cp /mnt/c/Users/jaske/Downloads/zomato_raw/* /home/jaskeerat/zomato_raw_files/"
   ]
  },
  {
   "cell_type": "markdown",
   "id": "dd97cb2a-9b20-419e-98e8-764925e4c492",
   "metadata": {},
   "source": [
    "# Question 2"
   ]
  },
  {
   "cell_type": "code",
   "execution_count": 2,
   "id": "92994102-00e5-4d76-97b8-07fd882cf1cd",
   "metadata": {},
   "outputs": [
    {
     "data": {
      "text/plain": [
       "['file3.json', 'file1.json', 'file2.json', 'file4.json', 'file5.json']"
      ]
     },
     "execution_count": 2,
     "metadata": {},
     "output_type": "execute_result"
    }
   ],
   "source": [
    "raw_files = \"/home/jaskeerat/zomato_raw_files\"\n",
    "file_list = [files for files in os.listdir(raw_files) if files.split(\".\")[1] == \"json\"]\n",
    "file_list"
   ]
  },
  {
   "cell_type": "code",
   "execution_count": 3,
   "id": "fb62085f-8eb1-4ac8-99c4-3b89aeb5f56e",
   "metadata": {},
   "outputs": [
    {
     "name": "stdout",
     "output_type": "stream",
     "text": [
      "/home/jaskeerat/zomato_raw_files/file3.json /home/jaskeerat/zomato_etl/source/json/file3.json\n",
      "/home/jaskeerat/zomato_raw_files/file1.json /home/jaskeerat/zomato_etl/source/json/file1.json\n",
      "/home/jaskeerat/zomato_raw_files/file2.json /home/jaskeerat/zomato_etl/source/json/file2.json\n",
      "/home/jaskeerat/zomato_raw_files/file4.json /home/jaskeerat/zomato_etl/source/json/file4.json\n",
      "/home/jaskeerat/zomato_raw_files/file5.json /home/jaskeerat/zomato_etl/source/json/file5.json\n"
     ]
    }
   ],
   "source": [
    "raw_json_folder = \"/home/jaskeerat/zomato_etl/source/json/\"\n",
    "os.makedirs(raw_json_folder, exist_ok=True)\n",
    "\n",
    "for file in os.listdir(raw_files):\n",
    "    if(file.split(\".\")[1] == \"json\"):\n",
    "        source_file = os.path.join(raw_files, file)\n",
    "        destination_file = os.path.join(raw_json_folder, file)\n",
    "        shutil.copy(source_file, destination_file)\n",
    "        print(source_file, destination_file)"
   ]
  },
  {
   "cell_type": "code",
   "execution_count": 4,
   "id": "9a023dfd-1de9-4f8f-b668-ab662a883ff1",
   "metadata": {},
   "outputs": [],
   "source": [
    "raw_csv_folder = \"/home/jaskeerat/zomato_etl/source/csv/\"\n",
    "os.makedirs(raw_csv_folder, exist_ok=True)\n",
    "\n",
    "file_mapping = {\"file1.json\": \"zomato_20190609.csv\", \"file2.json\": \"zomato_20190610.csv\", \"file3.json\": \"zomato_20190611.csv\", \"file4.json\": \"zomato_20190612.csv\", \"file5.json\": \"zomato_20190613.csv\"}\n",
    "\n",
    "for json_file, csv_file in file_mapping.items():\n",
    "    data_list = []\n",
    "    with open(raw_json_folder + json_file, \"r\") as file:\n",
    "        data = json.load(file)\n",
    "        for d in data:\n",
    "            if((\"results_found\" in d) and (d[\"results_found\"] != 0)):\n",
    "                data_list = data_list + d[\"restaurants\"]\n",
    "\n",
    "    df = pd.DataFrame()\n",
    "    for data in data_list:\n",
    "        restaurant_data = data[\"restaurant\"]\n",
    "        df = df._append({\"Restaurant_ID\": restaurant_data[\"R\"][\"res_id\"], \"Restaurant_Name\": restaurant_data[\"name\"], \"Country_Code\": restaurant_data[\"location\"][\"country_id\"],\n",
    "                        \"City\": restaurant_data[\"location\"][\"city\"], \"Address\": restaurant_data[\"location\"][\"address\"], \"Locality\": restaurant_data[\"location\"][\"locality\"],\n",
    "                        \"Locality_Verbose\": restaurant_data[\"location\"][\"locality_verbose\"], \"Longitude\": restaurant_data[\"location\"][\"longitude\"],\n",
    "                        \"Latitude\": restaurant_data[\"location\"][\"latitude\"], \"Cuisines\": restaurant_data[\"cuisines\"], \"Average_Cost_for_two\": restaurant_data[\"average_cost_for_two\"],\n",
    "                        \"Currency\": restaurant_data[\"currency\"], \"Has_Table_booking\": restaurant_data[\"has_table_booking\"], \"Has_Online_delivery\": restaurant_data[\"has_online_delivery\"],\n",
    "                        \"Is_delivering_now\": restaurant_data[\"is_delivering_now\"], \"Switch_to_order_menu\": restaurant_data[\"switch_to_order_menu\"],\n",
    "                        \"Price_range\": restaurant_data[\"price_range\"], \"Aggregate_rating\": restaurant_data[\"user_rating\"][\"aggregate_rating\"],\n",
    "                        \"Rating_text\": restaurant_data[\"user_rating\"][\"rating_text\"], \"Votes\": restaurant_data[\"user_rating\"][\"votes\"]}, ignore_index = True)\n",
    "    df.to_csv(raw_csv_folder + csv_file, index=False)"
   ]
  },
  {
   "cell_type": "markdown",
   "id": "00110e48-d4f0-4c43-bff7-d95e6fc62604",
   "metadata": {},
   "source": [
    "## Question 3"
   ]
  },
  {
   "cell_type": "markdown",
   "id": "4a9b2007-02f2-4bd7-819f-053962358c64",
   "metadata": {},
   "source": [
    "* hdfs dfs -mkdir -p /zomato_etl/zomato_ext/zomato\n",
    "* hdfs dfs -put /home/jaskeerat/zomato_etl/source/csv/* /zomato_etl/zomato_ext/zomato\n",
    "\n",
    "* hdfs dfs -mkdir -p /zomato_etl/zomato_ext/dim_country\n",
    "* hdfs dfs -put /home/jaskeerat/zomato_raw_files/country_code.csv /zomato_etl/zomato_ext/dim_country"
   ]
  },
  {
   "cell_type": "raw",
   "id": "fec40df3-0774-4047-acac-238105b51219",
   "metadata": {},
   "source": [
    "CREATE EXTERNAL TABLE zomato (\n",
    "    Restaurant_ID INT,\n",
    "    Restaurant_Name STRING,\n",
    "    Country_Code INT,\n",
    "    City STRING,\n",
    "    Address STRING,\n",
    "    Locality STRING,\n",
    "    Locality_Verbose STRING,\n",
    "    Longitude DOUBLE,\n",
    "    Latitude DOUBLE,\n",
    "    Cuisines STRING,\n",
    "    Average_Cost_for_two INT,\n",
    "    Currency STRING,\n",
    "    Has_Table_booking INT,\n",
    "    Has_Online_delivery INT,\n",
    "    Is_delivering_now INT,\n",
    "    Switch_to_order_menu INT,\n",
    "    Price_range INT,\n",
    "    Aggregate_rating DOUBLE,\n",
    "    Rating_text STRING,\n",
    "    Votes INT\n",
    ")\n",
    "PARTITIONED BY (filedate STRING)\n",
    "ROW FORMAT SERDE 'org.apache.hadoop.hive.serde2.OpenCSVSerde'\n",
    "WITH SERDEPROPERTIES (\n",
    "    \"separatorChar\" = \",\",\n",
    "    \"quoteChar\"     = \"\\\"\"\n",
    ")\n",
    "STORED AS TEXTFILE\n",
    "LOCATION '/zomato_etl/zomato_ext/zomato';\n",
    "\n",
    "ALTER TABLE zomato ADD PARTITION (filedate='20190609') LOCATION '/zomato_etl/zomato_ext/zomato/zomato_20190609.csv';\n",
    "ALTER TABLE zomato ADD PARTITION (filedate='20190610') LOCATION '/zomato_etl/zomato_ext/zomato/zomato_20190610.csv';\n",
    "ALTER TABLE zomato ADD PARTITION (filedate='20190611') LOCATION '/zomato_etl/zomato_ext/zomato/zomato_20190611.csv';\n",
    "ALTER TABLE zomato ADD PARTITION (filedate='20190612') LOCATION '/zomato_etl/zomato_ext/zomato/zomato_20190612.csv';\n",
    "ALTER TABLE zomato ADD PARTITION (filedate='20190613') LOCATION '/zomato_etl/zomato_ext/zomato/zomato_20190613.csv';"
   ]
  },
  {
   "cell_type": "raw",
   "id": "8b40180e-9788-4455-b7ed-4a3760c3ac60",
   "metadata": {},
   "source": [
    "CREATE TABLE dim_country (\n",
    "    Country_Code INT,\n",
    "    Country STRING\n",
    ")\n",
    "ROW FORMAT SERDE 'org.apache.hadoop.hive.serde2.OpenCSVSerde'\n",
    "WITH SERDEPROPERTIES (\n",
    "    \"separatorChar\" = \",\"\n",
    ")\n",
    "STORED AS TEXTFILE\n",
    "LOCATION '/zomato_etl/zomato_ext/dim_country';"
   ]
  },
  {
   "cell_type": "raw",
   "id": "b3e5882f-c6ca-4d56-8e75-c9d468efa2be",
   "metadata": {},
   "source": [
    "CREATE TABLE zomato_summary_log (\n",
    "    Job_id STRING,\n",
    "    Job_Step STRING,\n",
    "    Spark_submit_command STRING,\n",
    "    Job_Start_time STRING,\n",
    "    Job_End_time STRING,\n",
    "    Job_status STRING\n",
    ")\n",
    "ROW FORMAT DELIMITED\n",
    "FIELDS TERMINATED BY ',';"
   ]
  },
  {
   "cell_type": "markdown",
   "id": "223c0baa-e79f-49b0-8fb3-4e1553583ca5",
   "metadata": {},
   "source": [
    "## Question 4"
   ]
  },
  {
   "cell_type": "raw",
   "id": "5f4a458d-4415-4267-acad-051e927589eb",
   "metadata": {},
   "source": [
    "CREATE TABLE zomato_summary (\n",
    "    Restaurant_ID INT,\n",
    "    Restaurant_Name STRING,\n",
    "    Country_Code INT,\n",
    "    City STRING,\n",
    "    Address STRING,\n",
    "    Locality STRING,\n",
    "    Locality_Verbose STRING,\n",
    "    Longitude DOUBLE,\n",
    "    Latitude DOUBLE,\n",
    "    Cuisines STRING,\n",
    "    Average_Cost_for_two INT,\n",
    "    Currency STRING,\n",
    "    Has_Table_booking INT,\n",
    "    Has_Online_delivery INT,\n",
    "    Is_delivering_now INT,\n",
    "    Switch_to_order_menu INT,\n",
    "    Price_range INT,\n",
    "    Aggregate_rating DOUBLE,\n",
    "    Rating_text STRING,\n",
    "    Votes INT,\n",
    "    m_rating_colour STRING,\n",
    "    m_cuisines STRING,\n",
    "    create_datetime TIMESTAMP,\n",
    "    user_id STRING\n",
    ")\n",
    "PARTITIONED BY (p_filedate STRING, p_country_name STRING)\n",
    "STORED AS ORC\n",
    "LOCATION '/zomato_etl/zomato_ext/zomato_summary';"
   ]
  },
  {
   "cell_type": "code",
   "execution_count": null,
   "id": "3915f23f-ab66-4dbc-8dd5-a749d673b4ba",
   "metadata": {},
   "outputs": [],
   "source": []
  }
 ],
 "metadata": {
  "kernelspec": {
   "display_name": "Python 3 (ipykernel)",
   "language": "python",
   "name": "python3"
  },
  "language_info": {
   "codemirror_mode": {
    "name": "ipython",
    "version": 3
   },
   "file_extension": ".py",
   "mimetype": "text/x-python",
   "name": "python",
   "nbconvert_exporter": "python",
   "pygments_lexer": "ipython3",
   "version": "3.10.12"
  }
 },
 "nbformat": 4,
 "nbformat_minor": 5
}
