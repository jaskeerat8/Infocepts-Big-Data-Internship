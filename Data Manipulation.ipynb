{
 "cells": [
  {
   "cell_type": "markdown",
   "id": "b031967a-4eb2-4939-8694-2fd10112bfaf",
   "metadata": {},
   "source": [
    "## Importing Libraries"
   ]
  },
  {
   "cell_type": "code",
   "execution_count": 13,
   "id": "e3372604-01fc-4086-ac5d-61437698935a",
   "metadata": {},
   "outputs": [],
   "source": [
    "from pyspark.sql.functions import udf, col, split, explode, trim, when\n",
    "from pyspark.sql.types import StructType, StructField, StringType, IntegerType, DoubleType\n",
    "from pyspark.sql import SparkSession"
   ]
  },
  {
   "cell_type": "markdown",
   "id": "5c44796a-7dbe-4dc4-bfa5-8b8e8970d01a",
   "metadata": {},
   "source": [
    "## Reading Data"
   ]
  },
  {
   "cell_type": "code",
   "execution_count": 14,
   "id": "31770bf8-ade6-4981-b959-ad83b11675cc",
   "metadata": {},
   "outputs": [
    {
     "name": "stdout",
     "output_type": "stream",
     "text": [
      "+-------------+--------------------+------------+--------+--------------------+-----------+--------------------+---------------+--------------+--------------------+--------------------+--------+-----------------+-------------------+-----------------+--------------------+-----------+----------------+-----------+-----+\n",
      "|Restaurant_ID|     Restaurant_Name|Country_Code|    City|             Address|   Locality|    Locality_Verbose|      Longitude|      Latitude|            Cuisines|Average_Cost_for_two|Currency|Has_Table_booking|Has_Online_delivery|Is_delivering_now|Switch_to_order_menu|Price_range|Aggregate_rating|Rating_text|Votes|\n",
      "+-------------+--------------------+------------+--------+--------------------+-----------+--------------------+---------------+--------------+--------------------+--------------------+--------+-----------------+-------------------+-----------------+--------------------+-----------+----------------+-----------+-----+\n",
      "|     16668008|       Arigato Sushi|          37| Yorkton|14 Second Ave Nor...|    Yorkton|    Yorkton, Yorkton|-102.4613173000| 51.2106824000|               Asian|                  25|       $|                0|                0.0|                0|                 0.0|          2|             3.3|    Average|   26|\n",
      "|       801690|               Mocha|           1| Lucknow|CP-1, 2nd Floor, ...|Gomti Nagar|Gomti Nagar, Lucknow|  81.0011849000| 26.8528099000|Cafe, Italian, Co...|                 800|     Rs.|                0|                0.0|                0|                 0.0|          3|             4.6|  Excellent|  567|\n",
      "|     17558738|     Blue House Cafe|         216|Vernonia|919 Bridge St, Ve...|   Vernonia|  Vernonia, Vernonia|-123.1954368000| 45.8586670000|Coffee and Tea, M...|                  10|       $|                0|                0.0|                0|                 0.0|          1|             4.3|  Very Good|   88|\n",
      "|     16611701|         Star Buffet|          14|Mayfield|58 Hanbury St, Ma...|   Mayfield|  Mayfield, Mayfield| 151.7343832000|-32.8991780000|               Asian|                  20|       $|                0|                0.0|                0|                 0.0|          2|             2.9|    Average|   11|\n",
      "|      2100784|11th Avenue Cafe ...|           1|Guwahati|Opposite Assam St...|Uzan Bazaar|Uzan Bazaar, Guwa...|  91.7523143068| 26.1860014826|Cafe, American, I...|                 400|     Rs.|                0|                0.0|                0|                 0.0|          2|             4.1|  Very Good|  377|\n",
      "+-------------+--------------------+------------+--------+--------------------+-----------+--------------------+---------------+--------------+--------------------+--------------------+--------+-----------------+-------------------+-----------------+--------------------+-----------+----------------+-----------+-----+\n",
      "only showing top 5 rows\n",
      "\n"
     ]
    }
   ],
   "source": [
    "spark = SparkSession.builder.appName(\"zomatoJaskeerat\").getOrCreate()\n",
    "\n",
    "df = spark.read.csv(\"/home/jaskeerat/zomato_etl/source/csv\", header=True, inferSchema=True, sep=\",\", quote='\"')\n",
    "df.show(5)"
   ]
  },
  {
   "cell_type": "code",
   "execution_count": 15,
   "id": "8abf958f-ffda-4e0f-a619-eaaa5d2a6545",
   "metadata": {},
   "outputs": [
    {
     "name": "stdout",
     "output_type": "stream",
     "text": [
      "Number of Rows: 29760\n"
     ]
    }
   ],
   "source": [
    "print(\"Number of Rows:\", df.count())"
   ]
  },
  {
   "cell_type": "markdown",
   "id": "59a0acca-1e1d-4b3d-8382-5880b0c72def",
   "metadata": {},
   "source": [
    "## Rating Colour"
   ]
  },
  {
   "cell_type": "code",
   "execution_count": 16,
   "id": "e4531400-d0b6-48f8-88e4-b095665a0f0d",
   "metadata": {},
   "outputs": [],
   "source": [
    "def rating_colour(text, rating):\n",
    "    if((text == \"Poor\") and ((rating>=1.9) and (rating<=2.4))):\n",
    "        return \"Red\"\n",
    "    if((text == \"Average\") and ((rating>=2.5) and (rating<=3.4))):\n",
    "        return \"Amber\"\n",
    "    if((text == \"Good\") and ((rating>=3.5) and (rating<=3.9))):\n",
    "        return \"Light Green\"\n",
    "    if((text == \"Very Good\") and ((rating>=4.0) and (rating<=4.4))):\n",
    "        return \"Green\"\n",
    "    if((text == \"Excellent\") and ((rating>=4.5) and (rating<=5.0))):\n",
    "        return \"Gold\"\n",
    "\n",
    "rating_colour_udf = udf(rating_colour, StringType())"
   ]
  },
  {
   "cell_type": "code",
   "execution_count": 17,
   "id": "63429582-a84e-4c7d-9d56-820528a489b2",
   "metadata": {},
   "outputs": [
    {
     "name": "stdout",
     "output_type": "stream",
     "text": [
      "+-----------+----------------+---------------+\n",
      "|Rating_text|Aggregate_rating|m_rating_colour|\n",
      "+-----------+----------------+---------------+\n",
      "|    Average|             3.3|          Amber|\n",
      "|  Excellent|             4.6|           Gold|\n",
      "+-----------+----------------+---------------+\n",
      "only showing top 2 rows\n",
      "\n"
     ]
    }
   ],
   "source": [
    "df = df.withColumn(\"Aggregate_rating\", col(\"Aggregate_rating\").cast(\"double\"))\n",
    "df = df.withColumn(\"m_rating_colour\", rating_colour_udf(col(\"Rating_text\"), col(\"Aggregate_rating\")))\n",
    "df[[\"Rating_text\", \"Aggregate_rating\", \"m_rating_colour\"]].show(2)"
   ]
  },
  {
   "cell_type": "markdown",
   "id": "bdb26062-3c5f-4842-a898-7584ec93bab0",
   "metadata": {},
   "source": [
    "## Cuisines"
   ]
  },
  {
   "cell_type": "code",
   "execution_count": 18,
   "id": "5c10375b-b8ca-4d17-9de6-2818bfbec42c",
   "metadata": {},
   "outputs": [
    {
     "name": "stdout",
     "output_type": "stream",
     "text": [
      "+--------------------+\n",
      "|            Cuisines|\n",
      "+--------------------+\n",
      "|North Indian, Mug...|\n",
      "|North Indian, Str...|\n",
      "|           Cafe, Tea|\n",
      "|Chinese, Japanese...|\n",
      "|North Indian, Con...|\n",
      "+--------------------+\n",
      "only showing top 5 rows\n",
      "\n"
     ]
    }
   ],
   "source": [
    "df.select(\"Cuisines\").distinct().show(5)"
   ]
  },
  {
   "cell_type": "code",
   "execution_count": 19,
   "id": "5b4a2435-c785-430b-b1a4-33fda4d0fc1a",
   "metadata": {
    "scrolled": true
   },
   "outputs": [
    {
     "data": {
      "text/plain": [
       "['International',\n",
       " 'Salad',\n",
       " 'Raw Meats',\n",
       " 'Mexican',\n",
       " 'Kerala',\n",
       " 'Mangalorean',\n",
       " 'Bakery',\n",
       " 'BBQ',\n",
       " 'European',\n",
       " 'Tea',\n",
       " 'Turkish',\n",
       " 'Tibetan',\n",
       " 'Armenian',\n",
       " 'Afghani',\n",
       " 'Charcoal Grill',\n",
       " 'Thai',\n",
       " 'Fusion',\n",
       " 'Biryani',\n",
       " '0',\n",
       " 'Sushi',\n",
       " 'Indian',\n",
       " 'Chinese',\n",
       " 'Continental',\n",
       " 'Burger',\n",
       " 'Assamese',\n",
       " 'African',\n",
       " 'Mughlai',\n",
       " 'Sri Lankan',\n",
       " 'Coffee and Tea',\n",
       " 'Gujarati',\n",
       " 'British',\n",
       " 'Hyderabadi',\n",
       " 'Sandwich',\n",
       " 'Japanese',\n",
       " 'Australian',\n",
       " 'North Eastern',\n",
       " 'Fast Food',\n",
       " 'Spanish',\n",
       " 'Vietnamese',\n",
       " 'Kashmiri',\n",
       " 'Drinks Only',\n",
       " 'Pizza',\n",
       " 'Burmese',\n",
       " 'Portuguese',\n",
       " 'Breakfast',\n",
       " 'Goan',\n",
       " 'Italian',\n",
       " 'Lebanese',\n",
       " 'Parsi',\n",
       " 'Beverages',\n",
       " 'Maharashtrian',\n",
       " 'Modern Indian',\n",
       " 'Andhra',\n",
       " 'Awadhi',\n",
       " 'Bengali',\n",
       " 'Juices',\n",
       " 'North Indian',\n",
       " 'Korean',\n",
       " 'Modern Australian',\n",
       " 'Lucknowi',\n",
       " 'Cuisine Varies',\n",
       " 'French',\n",
       " 'Malaysian',\n",
       " 'Desserts',\n",
       " 'Southwestern',\n",
       " 'Arabian',\n",
       " 'Healthy Food',\n",
       " 'Naga',\n",
       " 'Middle Eastern',\n",
       " '600',\n",
       " 'Seafood',\n",
       " 'Ice Cream',\n",
       " 'Deli',\n",
       " 'Finger Food',\n",
       " 'Greek',\n",
       " 'South Indian',\n",
       " 'Asian',\n",
       " 'Chettinad',\n",
       " 'Street Food',\n",
       " 'Mithai',\n",
       " 'Iranian',\n",
       " 'Moroccan',\n",
       " 'Cafe',\n",
       " 'Bihari',\n",
       " 'Mediterranean',\n",
       " 'American',\n",
       " 'Belgian',\n",
       " 'Nepalese',\n",
       " 'Rajasthani',\n",
       " 'Tex-Mex',\n",
       " 'Persian',\n",
       " 'Indonesian',\n",
       " 'Filipino',\n",
       " 'Pakistani',\n",
       " 'Oriya',\n",
       " 'Bar Food',\n",
       " 'Rs.',\n",
       " 'Western',\n",
       " 'South American',\n",
       " 'Canadian',\n",
       " 'Steak',\n",
       " 'Tapas',\n",
       " '500',\n",
       " 'Sunda',\n",
       " 'Döner',\n",
       " 'Gourmet Fast Food',\n",
       " 'Scottish',\n",
       " 'Fish and Chips',\n",
       " 'Malay',\n",
       " 'Curry',\n",
       " 'South African',\n",
       " 'Cantonese',\n",
       " 'Börek',\n",
       " 'Taiwanese',\n",
       " 'AED',\n",
       " 'Argentine',\n",
       " 'Durban',\n",
       " 'Turkish Pizza',\n",
       " 'Peranakan',\n",
       " 'Peruvian',\n",
       " 'World Cuisine',\n",
       " 'Latin American',\n",
       " 'Izgara',\n",
       " 'Patisserie',\n",
       " 'Kiwi',\n",
       " 'Singaporean',\n",
       " 'Ramen',\n",
       " 'Vegetarian',\n",
       " 'Grill',\n",
       " 'Pub Food',\n",
       " 'Malwani',\n",
       " 'Dim Sum',\n",
       " 'Fresh Fish',\n",
       " 'Mineira',\n",
       " 'Brazilian',\n",
       " 'Cajun',\n",
       " 'German',\n",
       " 'Asian Fusion',\n",
       " 'Restaurant Cafe',\n",
       " 'Kebab',\n",
       " 'Contemporary',\n",
       " 'Bubble Tea',\n",
       " 'New American',\n",
       " 'Southern',\n",
       " 'Soul Food',\n",
       " 'Irish',\n",
       " 'Hawaiian',\n",
       " 'Caribbean',\n",
       " 'Diner',\n",
       " 'Cuban',\n",
       " 'Teriyaki']"
      ]
     },
     "execution_count": 19,
     "metadata": {},
     "output_type": "execute_result"
    }
   ],
   "source": [
    "cuisine_df = df.withColumn(\"cuisine_list\", split(col(\"Cuisines\"), \",\"))\n",
    "cuisine_df = cuisine_df.select(\"Cuisines\", \"cuisine_list\")\n",
    "cuisine_df = cuisine_df.withColumn(\"cuisine\", explode(col(\"cuisine_list\")))\n",
    "cuisine_df = cuisine_df.withColumn(\"cuisine\", trim(col(\"cuisine\")))\n",
    "\n",
    "cuisine_list = cuisine_df.select(\"cuisine\").distinct().rdd.map(lambda row: row[0]).collect()\n",
    "cuisine_list"
   ]
  },
  {
   "cell_type": "code",
   "execution_count": 20,
   "id": "03cb5d55-7d46-4a11-b368-354ee1f6b266",
   "metadata": {},
   "outputs": [],
   "source": [
    "indian_cuisines = [\"Kerala\", \"Mangalorean\", \"Biryani\", \"Indian\", \"Assamese\", \"Mughlai\", \"Gujarati\", \n",
    "                   \"Hyderabadi\", \"North Eastern\", \"Kashmiri\", \"Goan\", \"Parsi\", \"Maharashtrian\", \n",
    "                   \"Modern Indian\", \"Andhra\", \"Awadhi\", \"Bengali\", \"North Indian\", \"Lucknowi\",\n",
    "                   \"Naga\", \"South Indian\", \"Chettinad\", \"Bihari\", \"Rajasthani\", \"Oriya\", \"Vegetarian\"]\n",
    "\n",
    "def cuisines_function(Cuisines):\n",
    "    if any(cuisine in Cuisines for cuisine in indian_cuisines):\n",
    "        return \"Indian\"\n",
    "    else:\n",
    "        return \"World Cuisines\"\n",
    "\n",
    "cuisines_udf = udf(cuisines_function, StringType())\n",
    "df = df.withColumn(\"m_cuisines\", cuisines_udf(col(\"Cuisines\")))"
   ]
  },
  {
   "cell_type": "code",
   "execution_count": 21,
   "id": "7629fd5b-32d8-4c95-899e-f76c454a8e59",
   "metadata": {},
   "outputs": [
    {
     "name": "stdout",
     "output_type": "stream",
     "text": [
      "+--------------------+----------+\n",
      "|            Cuisines|m_cuisines|\n",
      "+--------------------+----------+\n",
      "|Italian, North In...|    Indian|\n",
      "|North Indian, Mug...|    Indian|\n",
      "|North Indian, Mug...|    Indian|\n",
      "|North Indian, Med...|    Indian|\n",
      "|Italian, Mexican,...|    Indian|\n",
      "+--------------------+----------+\n",
      "only showing top 5 rows\n",
      "\n"
     ]
    }
   ],
   "source": [
    "df.filter(df[\"m_cuisines\"] == \"Indian\")[[\"Cuisines\", \"m_cuisines\"]].show(5)"
   ]
  },
  {
   "cell_type": "code",
   "execution_count": 22,
   "id": "6f9f0bb7-3e56-47f0-a4ed-72d893eb06eb",
   "metadata": {},
   "outputs": [
    {
     "name": "stdout",
     "output_type": "stream",
     "text": [
      "+--------------------+--------------+\n",
      "|            Cuisines|    m_cuisines|\n",
      "+--------------------+--------------+\n",
      "|               Asian|World Cuisines|\n",
      "|Cafe, Italian, Co...|World Cuisines|\n",
      "|Coffee and Tea, M...|World Cuisines|\n",
      "|               Asian|World Cuisines|\n",
      "|Cafe, American, I...|World Cuisines|\n",
      "+--------------------+--------------+\n",
      "only showing top 5 rows\n",
      "\n"
     ]
    }
   ],
   "source": [
    "df.filter(df[\"m_cuisines\"] == \"World Cuisines\")[[\"Cuisines\", \"m_cuisines\"]].show(5)"
   ]
  },
  {
   "cell_type": "markdown",
   "id": "15f9f580-79ed-4c42-a1e2-aa685ad7620d",
   "metadata": {},
   "source": [
    "## Filling Nulls"
   ]
  },
  {
   "cell_type": "code",
   "execution_count": 23,
   "id": "4c1b0dda-188e-4d47-a7a1-0b810e5bba60",
   "metadata": {},
   "outputs": [
    {
     "data": {
      "text/plain": [
       "29563"
      ]
     },
     "execution_count": 23,
     "metadata": {},
     "output_type": "execute_result"
    }
   ],
   "source": [
    "df = df.filter((col(\"Cuisines\").isNotNull()) & (col(\"Cuisines\") != \"\"))\n",
    "df.count()"
   ]
  },
  {
   "cell_type": "code",
   "execution_count": 24,
   "id": "4b21b9f0-0d93-4425-afbf-050ef48d16f0",
   "metadata": {},
   "outputs": [],
   "source": [
    "for column in df.columns:\n",
    "    df = df.withColumn(column, when((col(column).isNull()) | (col(column) == \"\"), \"NA\").otherwise(col(column)))"
   ]
  }
 ],
 "metadata": {
  "kernelspec": {
   "display_name": "PySpark",
   "language": "python",
   "name": "pyspark"
  },
  "language_info": {
   "codemirror_mode": {
    "name": "ipython",
    "version": 3
   },
   "file_extension": ".py",
   "mimetype": "text/x-python",
   "name": "python",
   "nbconvert_exporter": "python",
   "pygments_lexer": "ipython3",
   "version": "3.10.12"
  }
 },
 "nbformat": 4,
 "nbformat_minor": 5
}
